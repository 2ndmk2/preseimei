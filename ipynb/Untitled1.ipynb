{
 "cells": [
  {
   "cell_type": "code",
   "execution_count": 1,
   "id": "bulgarian-chair",
   "metadata": {},
   "outputs": [],
   "source": [
    "from preseimei import darkflat\n",
    "import glob \n",
    "import astropy.io.fits as fits\n",
    "\n",
    "\n",
    "def get_obj_names_ok_files(data_dir, obs_date):\n",
    "    \n",
    "    fns_all = glob.glob(data_dir+obs_date+'/*.fits')\n",
    "    obj_types = []\n",
    "    fn_ok = []\n",
    "    for fn in fns_all:\n",
    "        try:\n",
    "            \n",
    "            hdul = fits.open(fn)\n",
    "            obj_type = hdul[0].header['OBJECT']\n",
    "            obj_types.append(obj_type)    \n",
    "            hdul.close()\n",
    "            fn_ok.append(fn)\n",
    "        except:\n",
    "            pass\n",
    "\n",
    "    return obj_types, fn_ok\n",
    "\n",
    "def get_obj_names(data_dir, obs_date):\n",
    "    \n",
    "    fns_all = glob.glob(data_dir+obs_date+'/*.fits')\n",
    "    obj_types = []\n",
    "    fn_ok = []\n",
    "    for fn in fns_all:\n",
    "        try:\n",
    "            hdul = fits.open(fn)\n",
    "            obj_type = hdul[0].header['OBJECT']\n",
    "            obj_types.append(obj_type)    \n",
    "            hdul.close()\n",
    "            fn_ok.append(fn)\n",
    "        except:\n",
    "            pass\n",
    "\n",
    "    return list(set(obj_types )), fn_ok\n",
    "\n",
    "obj_types, fn_ok = get_obj_names_ok_files(\"/alps/center/\", \"20220524\")"
   ]
  },
  {
   "cell_type": "code",
   "execution_count": 13,
   "id": "portable-wisconsin",
   "metadata": {},
   "outputs": [
    {
     "name": "stdout",
     "output_type": "stream",
     "text": [
      "776\n"
     ]
    }
   ],
   "source": [
    "print(len(fn_ok))"
   ]
  },
  {
   "cell_type": "code",
   "execution_count": 5,
   "id": "moving-riding",
   "metadata": {},
   "outputs": [
    {
     "data": {
      "text/plain": [
       "['DARK', 'ZTFJ1901+1458', 'twilight', 'IRAS00500+6713']"
      ]
     },
     "execution_count": 5,
     "metadata": {},
     "output_type": "execute_result"
    }
   ],
   "source": [
    "get_obj_names(\"/alps/north/\", \"20211014\")"
   ]
  },
  {
   "cell_type": "code",
   "execution_count": 6,
   "id": "center-stylus",
   "metadata": {},
   "outputs": [
    {
     "data": {
      "text/plain": [
       "['DARK', 'ZTFJ1901+1458', 'IRAS00500+6713', 'twilight']"
      ]
     },
     "execution_count": 6,
     "metadata": {},
     "output_type": "execute_result"
    }
   ],
   "source": [
    "get_obj_names(\"/alps/north/\", \"20211015\")"
   ]
  },
  {
   "cell_type": "code",
   "execution_count": null,
   "id": "center-editor",
   "metadata": {},
   "outputs": [],
   "source": []
  }
 ],
 "metadata": {
  "kernelspec": {
   "display_name": "Python 3",
   "language": "python",
   "name": "python3"
  },
  "language_info": {
   "codemirror_mode": {
    "name": "ipython",
    "version": 3
   },
   "file_extension": ".py",
   "mimetype": "text/x-python",
   "name": "python",
   "nbconvert_exporter": "python",
   "pygments_lexer": "ipython3",
   "version": "3.8.8"
  }
 },
 "nbformat": 4,
 "nbformat_minor": 5
}
