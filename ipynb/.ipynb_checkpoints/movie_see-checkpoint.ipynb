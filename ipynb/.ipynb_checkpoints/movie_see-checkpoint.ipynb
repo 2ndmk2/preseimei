{
 "cells": [
  {
   "cell_type": "code",
   "execution_count": null,
   "id": "ideal-finger",
   "metadata": {},
   "outputs": [],
   "source": [
    "import numpy as np\n",
    "import matplotlib.pyplot as plt\n",
    "from preseimei import movie_lc_ana\n",
    "import glob\n",
    "import importlib\n",
    "\n",
    "apertures = [10, 15, 20, 25]\n",
    "bin_t = 10\n",
    "obs_date = \"20220113\"\n",
    "out_dir = \"/alps/south/reduced/20220112_analyzed/movies/WD_triccs23/g_band/\"\n",
    "names = glob.glob(out_dir + \"target_processed_*_lc10.npz\")\n",
    "gaia_id= names[0].split(\"_\")[-2]\n",
    "d_movie = np.load(out_dir + \"movie_after_bkgsub_%s.npz\" % gaia_id)"
   ]
  },
  {
   "cell_type": "code",
   "execution_count": null,
   "id": "presidential-gregory",
   "metadata": {
    "scrolled": false
   },
   "outputs": [],
   "source": [
    "def show_movie_sum(movie, dt = 20, dt2=3):\n",
    "    for i in range(int(len(movie)/dt)):\n",
    "        movie_now = np.sum(movie[dt* i: dt*i + dt2], axis=0)\n",
    "        plt.imshow(np.log10(movie_now ))\n",
    "        plt.show()\n",
    "        print(i, len(movie)/dt)\n",
    "movie= d_movie[\"movie\"]\n",
    "\n",
    "show_movie_sum(movie)"
   ]
  },
  {
   "cell_type": "code",
   "execution_count": null,
   "id": "thousand-thought",
   "metadata": {},
   "outputs": [],
   "source": [
    "plt.imshow(movie_sum )"
   ]
  },
  {
   "cell_type": "code",
   "execution_count": null,
   "id": "yellow-livestock",
   "metadata": {},
   "outputs": [],
   "source": []
  },
  {
   "cell_type": "code",
   "execution_count": null,
   "id": "united-campaign",
   "metadata": {},
   "outputs": [],
   "source": []
  },
  {
   "cell_type": "code",
   "execution_count": null,
   "id": "resident-dealing",
   "metadata": {},
   "outputs": [],
   "source": []
  },
  {
   "cell_type": "code",
   "execution_count": null,
   "id": "binary-board",
   "metadata": {},
   "outputs": [],
   "source": []
  }
 ],
 "metadata": {
  "kernelspec": {
   "display_name": "Python 3",
   "language": "python",
   "name": "python3"
  },
  "language_info": {
   "codemirror_mode": {
    "name": "ipython",
    "version": 3
   },
   "file_extension": ".py",
   "mimetype": "text/x-python",
   "name": "python",
   "nbconvert_exporter": "python",
   "pygments_lexer": "ipython3",
   "version": "3.8.8"
  }
 },
 "nbformat": 4,
 "nbformat_minor": 5
}
