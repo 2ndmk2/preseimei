{
 "cells": [
  {
   "cell_type": "code",
   "execution_count": 7,
   "id": "numeric-coach",
   "metadata": {
    "scrolled": false
   },
   "outputs": [],
   "source": [
    "from preseimei import darkflat\n",
    "from preseimei import install_indexfiles\n",
    "from preseimei import seimei_ana\n",
    "import astropy.io.fits as fits\n",
    "import numpy as np\n",
    "import matplotlib.pyplot as plt\n",
    "import importlib\n",
    "import pandas as pd\n",
    "importlib.reload(darkflat)\n",
    "df = pd.read_csv(\"../dark_flat_info/dark_flat_info_all.csv\")\n",
    "date = df[\"date\"].values.astype(\"str\")\n",
    "flat = df[\"flat\"].values\n",
    "dark = df[\"dark\"].values\n",
    "dirs= df[\"dir\"].values.astype(\"str\")\n",
    "\n",
    "date_now = \"20211014\""
   ]
  },
  {
   "cell_type": "code",
   "execution_count": 8,
   "id": "productive-occupation",
   "metadata": {},
   "outputs": [
    {
     "data": {
      "text/plain": [
       "['ZTFJ1901+1458', 'DARK', 'IRAS00500+6713', 'twilight']"
      ]
     },
     "execution_count": 8,
     "metadata": {},
     "output_type": "execute_result"
    }
   ],
   "source": [
    "darkflat.get_obj_names(\"/alps/north/\", date_now )"
   ]
  },
  {
   "cell_type": "code",
   "execution_count": null,
   "id": "latter-tyler",
   "metadata": {},
   "outputs": [],
   "source": [
    "\n",
    "for i in range(len(date)):\n",
    "    if date_now==\n",
    "    i=1\n",
    "    print(date[i])\n",
    "    data_dir = dirs[i]\n",
    "    obs_date =date[i]\n",
    "    gain_exp_for_obj =dark[i]\n",
    "    gain_exp_for_flat=flat[i]\n",
    "\n",
    "    ## download index files for astrometry.net\n",
    "    obs_dark_types,  obs_flat_types  = darkflat.get_flat_and_dark_cadences(data_dir, obs_date, dark_name = \"DARK\", flat_name = \"twilight\")    \n",
    "    dark_for_flat_files, dark_for_obj_files,  flat_files = \\\n",
    "    darkflat.get_dark_flat_obj_file(data_dir, obs_date, gain_exp_for_obj = gain_exp_for_obj, gain_exp_for_flat = gain_exp_for_flat , dark_exp_for_flat =gain_exp_for_flat)\n",
    "    g_files, r_files, z_files = darkflat.sep_files_grz(sorted(flat_files ))\n",
    "    g_files_dark, r_files_dark, z_files_dark = darkflat.sep_files_grz(dark_for_flat_files )\n",
    "    flats_arr = darkflat.get_image_med(sorted(g_files))\n",
    "    dark_for_flat_med_arr = darkflat.get_image_med(g_files_dark,)\n",
    "    dark_for_flat_med = np.median( dark_for_flat_med_arr, axis=0)\n",
    "    flat_reduced, flat_red_arr = darkflat.reduce_flats_to_one_flat(flats_arr, dark_for_flat_med)    \n",
    "    plt.imshow(flat_reduced)\n",
    "    plt.colorbar()\n",
    "    plt.show()"
   ]
  }
 ],
 "metadata": {
  "kernelspec": {
   "display_name": "Python 3",
   "language": "python",
   "name": "python3"
  },
  "language_info": {
   "codemirror_mode": {
    "name": "ipython",
    "version": 3
   },
   "file_extension": ".py",
   "mimetype": "text/x-python",
   "name": "python",
   "nbconvert_exporter": "python",
   "pygments_lexer": "ipython3",
   "version": "3.8.8"
  }
 },
 "nbformat": 4,
 "nbformat_minor": 5
}
