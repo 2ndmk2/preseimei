{
 "cells": [
  {
   "cell_type": "code",
   "execution_count": 3,
   "id": "every-monkey",
   "metadata": {},
   "outputs": [
    {
     "data": {
      "text/plain": [
       "('328009783428208256', '10')"
      ]
     },
     "execution_count": 3,
     "metadata": {},
     "output_type": "execute_result"
    }
   ],
   "source": [
    "import numpy as np\n",
    "import matplotlib.pyplot as plt\n",
    "from preseimei import movie_lc_ana\n",
    "from preseimei import pca\n",
    "from preseimei import utils\n",
    "\n",
    "import glob\n",
    "\n",
    "apertures = [10, 15, 20, 25]\n",
    "bin_t = 10\n",
    "obs_date = \"20220111\"\n",
    "out_dir = \"/alps/south/reduced/%s_analyzed/movies/*/g_band\" % obs_date\n",
    "names = glob.glob(out_dir + \"*\")\n",
    "data_dir = '/alps/south/reduced/'\n",
    "\n",
    "def get_id_and_rp(file_name):\n",
    "    item = file_name.split(\"_\")\n",
    "    gaia_id = item[-2]\n",
    "    rp_ap = item[-1].replace(\"lc\",\"\").replace(\".npz\",\"\")\n",
    "    return gaia_id, rp_ap\n",
    "get_id_and_rp(\"/alps/south/reduced/20220111_analyzed/movies/WD_triccs28/z_band/target_and_others_328009783428208256_lc10.npz\")"
   ]
  },
  {
   "cell_type": "code",
   "execution_count": 8,
   "id": "proof-continent",
   "metadata": {
    "scrolled": true
   },
   "outputs": [
    {
     "name": "stdout",
     "output_type": "stream",
     "text": [
      "/alps/south/reduced/20220111_analyzed/movies/WD_triccs26/r_band\n",
      "/alps/south/reduced/20220111_analyzed/movies/WD_triccs26/r_band/target_and_others_450931644363332352_lc10.npz\n"
     ]
    },
    {
     "ename": "NameError",
     "evalue": "name 'pcaremove_sys_from_pca' is not defined",
     "output_type": "error",
     "traceback": [
      "\u001b[0;31m---------------------------------------------------------------------------\u001b[0m",
      "\u001b[0;31mNameError\u001b[0m                                 Traceback (most recent call last)",
      "\u001b[0;32m<ipython-input-8-68f1a7e35345>\u001b[0m in \u001b[0;36m<module>\u001b[0;34m\u001b[0m\n\u001b[1;32m     21\u001b[0m                         \u001b[0mflux_target\u001b[0m \u001b[0;34m=\u001b[0m \u001b[0mdata_now\u001b[0m\u001b[0;34m[\u001b[0m\u001b[0;34m\"flux_target\"\u001b[0m\u001b[0;34m]\u001b[0m\u001b[0;34m\u001b[0m\u001b[0;34m\u001b[0m\u001b[0m\n\u001b[1;32m     22\u001b[0m                         \u001b[0mflux_for_comp\u001b[0m \u001b[0;34m=\u001b[0m \u001b[0mdata_now\u001b[0m\u001b[0;34m[\u001b[0m\u001b[0;34m\"flux_for_comp\"\u001b[0m\u001b[0;34m]\u001b[0m\u001b[0;34m\u001b[0m\u001b[0;34m\u001b[0m\u001b[0m\n\u001b[0;32m---> 23\u001b[0;31m                         \u001b[0mtime_target\u001b[0m\u001b[0;34m,\u001b[0m \u001b[0mflux_target_pca\u001b[0m\u001b[0;34m=\u001b[0m \u001b[0mpcaremove_sys_from_pca\u001b[0m\u001b[0;34m(\u001b[0m \u001b[0mflux_target\u001b[0m\u001b[0;34m,\u001b[0m \u001b[0mflux_for_comp\u001b[0m  \u001b[0;34m)\u001b[0m\u001b[0;34m\u001b[0m\u001b[0;34m\u001b[0m\u001b[0m\n\u001b[0m\u001b[1;32m     24\u001b[0m                         \u001b[0mflux_med_arr\u001b[0m\u001b[0;34m,\u001b[0m \u001b[0mstd_arr\u001b[0m\u001b[0;34m,\u001b[0m \u001b[0mleast_lc\u001b[0m \u001b[0;34m=\u001b[0m \u001b[0mmovie_lc_ana\u001b[0m\u001b[0;34m.\u001b[0m\u001b[0mchoose_least_variable\u001b[0m\u001b[0;34m(\u001b[0m\u001b[0mflux_target\u001b[0m\u001b[0;34m,\u001b[0m \u001b[0mflux_for_comp\u001b[0m\u001b[0;34m)\u001b[0m\u001b[0;34m\u001b[0m\u001b[0;34m\u001b[0m\u001b[0m\n\u001b[1;32m     25\u001b[0m                         \u001b[0mflux_target_pca\u001b[0m \u001b[0;34m=\u001b[0m \u001b[0mpca\u001b[0m\u001b[0;34m.\u001b[0m\u001b[0mremove_sys_from_pca\u001b[0m\u001b[0;34m(\u001b[0m\u001b[0mflux_target\u001b[0m\u001b[0;34m,\u001b[0m \u001b[0mflux_for_comp\u001b[0m\u001b[0;34m)\u001b[0m\u001b[0;34m\u001b[0m\u001b[0;34m\u001b[0m\u001b[0m\n",
      "\u001b[0;31mNameError\u001b[0m: name 'pcaremove_sys_from_pca' is not defined"
     ]
    }
   ],
   "source": [
    "import os\n",
    "out_dir_lc = \"/alps/south/reduced/lcs/\" \n",
    "\n",
    "obs_dates = [\"20220111\", \"20220112\", \"20220113\", \"20220114\"]\n",
    "bands = {\"r_band\", \"g_band\", \"z_band\"}\n",
    "for obs_date in obs_dates:\n",
    "    for band in bands:\n",
    "        out_dir = \"/alps/south/reduced/%s_analyzed/movies/*/%s\" % (obs_date, band)\n",
    "        names = glob.glob(out_dir + \"*\")        \n",
    "\n",
    "        for name in names:\n",
    "                files = glob.glob(name + \"/target_and_others_*\")\n",
    "                files = sorted(files)\n",
    "                print(name)\n",
    "                for file in files:\n",
    "                        print(file)\n",
    "\n",
    "                        gaia_id, rp = get_id_and_rp(file)\n",
    "                        data_now = np.load(file)\n",
    "                        time = data_now[\"time\"]\n",
    "                        flux_target = data_now[\"flux_target\"]\n",
    "                        flux_for_comp = data_now[\"flux_for_comp\"]\n",
    "                        time_target, flux_target_pca= pcaremove_sys_from_pca( flux_target, flux_for_comp  )\n",
    "                        flux_med_arr, std_arr, least_lc = movie_lc_ana.choose_least_variable(flux_target, flux_for_comp)\n",
    "                        flux_target_pca = pca.remove_sys_from_pca(flux_target, flux_for_comp)         \n",
    "                        \n",
    "                        movie_lc_ana.save_reduced_lc(out_dir,  gaia_id, time_target,  least_lc, flux_target_pca, rp)\n",
    "                        #file_out = \n",
    "                        #movie_lc_ana.show_periodogram_and_lc(time_target - np.min(time_target), flux_target_pca, maximum_period=1000, minimum_period=2)  \n",
    "                        \"\"\"\n",
    "                        plt.figure(figsize = (10,8))\n",
    "                        plt.plot(time_target, least_lc , label=\"g\")\n",
    "                        plt.legend()\n",
    "                        plt.title(\"%s\" % file.split(\"/\")[-1])\n",
    "                        plt.show()\n",
    "                        \"\"\"\n"
   ]
  },
  {
   "cell_type": "code",
   "execution_count": null,
   "id": "spread-mathematics",
   "metadata": {},
   "outputs": [],
   "source": []
  }
 ],
 "metadata": {
  "kernelspec": {
   "display_name": "Python 3",
   "language": "python",
   "name": "python3"
  },
  "language_info": {
   "codemirror_mode": {
    "name": "ipython",
    "version": 3
   },
   "file_extension": ".py",
   "mimetype": "text/x-python",
   "name": "python",
   "nbconvert_exporter": "python",
   "pygments_lexer": "ipython3",
   "version": "3.8.8"
  }
 },
 "nbformat": 4,
 "nbformat_minor": 5
}
