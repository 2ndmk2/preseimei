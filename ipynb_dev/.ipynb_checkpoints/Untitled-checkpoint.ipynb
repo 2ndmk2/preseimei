{
 "cells": [
  {
   "cell_type": "code",
   "execution_count": 2,
   "id": "perceived-iraqi",
   "metadata": {},
   "outputs": [
    {
     "name": "stdout",
     "output_type": "stream",
     "text": [
      "['/alps/south/reduced/20220524/TRCS00145690_sub.new', '/alps/south/reduced/20220524/TRCS00146640_sub.new', '/alps/south/reduced/20220524/TRCS00146022_sub.new', '/alps/south/reduced/20220524/TRCS00145640_sub.new', '/alps/south/reduced/20220524/TRCS00145641_sub.new', '/alps/south/reduced/20220524/TRCS00146570_sub.new', '/alps/south/reduced/20220524/TRCS00146151_sub.new', '/alps/south/reduced/20220524/TRCS00146332_sub.new', '/alps/south/reduced/20220524/TRCS00146421_sub.new', '/alps/south/reduced/20220524/TRCS00145292_sub.new', '/alps/south/reduced/20220524/TRCS00146240_sub.new', '/alps/south/reduced/20220524/TRCS00145342_sub.new', '/alps/south/reduced/20220524/TRCS00146601_sub.new', '/alps/south/reduced/20220524/TRCS00145490_sub.new', '/alps/south/reduced/20220524/TRCS00146102_sub.new', '/alps/south/reduced/20220524/TRCS00145580_sub.new', '/alps/south/reduced/20220524/TRCS00145360_sub.new', '/alps/south/reduced/20220524/TRCS00145340_sub.new', '/alps/south/reduced/20220524/TRCS00146531_sub.new', '/alps/south/reduced/20220524/TRCS00146452_sub.new', '/alps/south/reduced/20220524/TRCS00146630_sub.new', '/alps/south/reduced/20220524/TRCS00146111_sub.new', '/alps/south/reduced/20220524/TRCS00146382_sub.new', '/alps/south/reduced/20220524/TRCS00146210_sub.new', '/alps/south/reduced/20220524/TRCS00145491_sub.new', '/alps/south/reduced/20220524/TRCS00146152_sub.new', '/alps/south/reduced/20220524/TRCS00145922_sub.new', '/alps/south/reduced/20220524/TRCS00146272_sub.new', '/alps/south/reduced/20220524/TRCS00146692_sub.new', '/alps/south/reduced/20220524/TRCS00145532_sub.new', '/alps/south/reduced/20220524/TRCS00145312_sub.new', '/alps/south/reduced/20220524/TRCS00146602_sub.new', '/alps/south/reduced/20220524/TRCS00146540_sub.new', '/alps/south/reduced/20220524/TRCS00146412_sub.new', '/alps/south/reduced/20220524/TRCS00146221_sub.new', '/alps/south/reduced/20220524/TRCS00146580_sub.new', '/alps/south/reduced/20220524/TRCS00146530_sub.new', '/alps/south/reduced/20220524/TRCS00145501_sub.new', '/alps/south/reduced/20220524/TRCS00146422_sub.new', '/alps/south/reduced/20220524/TRCS00146112_sub.new', '/alps/south/reduced/20220524/TRCS00146600_sub.new', '/alps/south/reduced/20220524/TRCS00145411_sub.new', '/alps/south/reduced/20220524/TRCS00146362_sub.new', '/alps/south/reduced/20220524/TRCS00145601_sub.new', '/alps/south/reduced/20220524/TRCS00145980_sub.new', '/alps/south/reduced/20220524/TRCS00146591_sub.new', '/alps/south/reduced/20220524/TRCS00146212_sub.new', '/alps/south/reduced/20220524/TRCS00145992_sub.new', '/alps/south/reduced/20220524/TRCS00145671_sub.new', '/alps/south/reduced/20220524/TRCS00145611_sub.new', '/alps/south/reduced/20220524/TRCS00145812_sub.new', '/alps/south/reduced/20220524/TRCS00145822_sub.new', '/alps/south/reduced/20220524/TRCS00145801_sub.new', '/alps/south/reduced/20220524/TRCS00145911_sub.new', '/alps/south/reduced/20220524/TRCS00145830_sub.new', '/alps/south/reduced/20220524/TRCS00145810_sub.new', '/alps/south/reduced/20220524/TRCS00146040_sub.new', '/alps/south/reduced/20220524/TRCS00145802_sub.new', '/alps/south/reduced/20220524/TRCS00145670_sub.new', '/alps/south/reduced/20220524/TRCS00146342_sub.new', '/alps/south/reduced/20220524/TRCS00146311_sub.new', '/alps/south/reduced/20220524/TRCS00145730_sub.new', '/alps/south/reduced/20220524/TRCS00146141_sub.new', '/alps/south/reduced/20220524/TRCS00145700_sub.new', '/alps/south/reduced/20220524/TRCS00146632_sub.new', '/alps/south/reduced/20220524/TRCS00146110_sub.new', '/alps/south/reduced/20220524/TRCS00146490_sub.new', '/alps/south/reduced/20220524/TRCS00145431_sub.new', '/alps/south/reduced/20220524/TRCS00146592_sub.new', '/alps/south/reduced/20220524/TRCS00146142_sub.new', '/alps/south/reduced/20220524/TRCS00145522_sub.new', '/alps/south/reduced/20220524/TRCS00146521_sub.new', '/alps/south/reduced/20220524/TRCS00145442_sub.new', '/alps/south/reduced/20220524/TRCS00146470_sub.new', '/alps/south/reduced/20220524/TRCS00146462_sub.new', '/alps/south/reduced/20220524/TRCS00145462_sub.new', '/alps/south/reduced/20220524/TRCS00146200_sub.new', '/alps/south/reduced/20220524/TRCS00145551_sub.new', '/alps/south/reduced/20220524/TRCS00146501_sub.new', '/alps/south/reduced/20220524/TRCS00145572_sub.new', '/alps/south/reduced/20220524/TRCS00145332_sub.new', '/alps/south/reduced/20220524/TRCS00146492_sub.new', '/alps/south/reduced/20220524/TRCS00146502_sub.new', '/alps/south/reduced/20220524/TRCS00145510_sub.new', '/alps/south/reduced/20220524/TRCS00145372_sub.new', '/alps/south/reduced/20220524/TRCS00146682_sub.new', '/alps/south/reduced/20220524/TRCS00146611_sub.new', '/alps/south/reduced/20220524/TRCS00146242_sub.new', '/alps/south/reduced/20220524/TRCS00145930_sub.new', '/alps/south/reduced/20220524/TRCS00145741_sub.new', '/alps/south/reduced/20220524/TRCS00146660_sub.new', '/alps/south/reduced/20220524/TRCS00145991_sub.new', '/alps/south/reduced/20220524/TRCS00146220_sub.new', '/alps/south/reduced/20220524/TRCS00145961_sub.new', '/alps/south/reduced/20220524/TRCS00146002_sub.new', '/alps/south/reduced/20220524/TRCS00146370_sub.new', '/alps/south/reduced/20220524/TRCS00146431_sub.new', '/alps/south/reduced/20220524/TRCS00145620_sub.new', '/alps/south/reduced/20220524/TRCS00145470_sub.new', '/alps/south/reduced/20220524/TRCS00145712_sub.new', '/alps/south/reduced/20220524/TRCS00146420_sub.new', '/alps/south/reduced/20220524/TRCS00145831_sub.new', '/alps/south/reduced/20220524/TRCS00146170_sub.new', '/alps/south/reduced/20220524/TRCS00145900_sub.new', '/alps/south/reduced/20220524/TRCS00146042_sub.new', '/alps/south/reduced/20220524/TRCS00145792_sub.new', '/alps/south/reduced/20220524/TRCS00146222_sub.new', '/alps/south/reduced/20220524/TRCS00145482_sub.new', '/alps/south/reduced/20220524/TRCS00146652_sub.new', '/alps/south/reduced/20220524/TRCS00146091_sub.new', '/alps/south/reduced/20220524/TRCS00146352_sub.new', '/alps/south/reduced/20220524/TRCS00146081_sub.new', '/alps/south/reduced/20220524/TRCS00145940_sub.new', '/alps/south/reduced/20220524/TRCS00146201_sub.new', '/alps/south/reduced/20220524/TRCS00146460_sub.new', '/alps/south/reduced/20220524/TRCS00145351_sub.new', '/alps/south/reduced/20220524/TRCS00145422_sub.new', '/alps/south/reduced/20220524/TRCS00145770_sub.new', '/alps/south/reduced/20220524/TRCS00145460_sub.new', '/alps/south/reduced/20220524/TRCS00145412_sub.new', '/alps/south/reduced/20220524/TRCS00145602_sub.new', '/alps/south/reduced/20220524/TRCS00146120_sub.new', '/alps/south/reduced/20220524/TRCS00146361_sub.new', '/alps/south/reduced/20220524/TRCS00146542_sub.new', '/alps/south/reduced/20220524/TRCS00146441_sub.new', '/alps/south/reduced/20220524/TRCS00146651_sub.new', '/alps/south/reduced/20220524/TRCS00145760_sub.new', '/alps/south/reduced/20220524/TRCS00146181_sub.new', '/alps/south/reduced/20220524/TRCS00145492_sub.new', '/alps/south/reduced/20220524/TRCS00145302_sub.new', '/alps/south/reduced/20220524/TRCS00145952_sub.new', '/alps/south/reduced/20220524/TRCS00146461_sub.new', '/alps/south/reduced/20220524/TRCS00145742_sub.new', '/alps/south/reduced/20220524/TRCS00146701_sub.new', '/alps/south/reduced/20220524/TRCS00146681_sub.new', '/alps/south/reduced/20220524/TRCS00146482_sub.new', '/alps/south/reduced/20220524/TRCS00145931_sub.new', '/alps/south/reduced/20220524/TRCS00145860_sub.new', '/alps/south/reduced/20220524/TRCS00146320_sub.new', '/alps/south/reduced/20220524/TRCS00146450_sub.new', '/alps/south/reduced/20220524/TRCS00145680_sub.new', '/alps/south/reduced/20220524/TRCS00145632_sub.new', '/alps/south/reduced/20220524/TRCS00145901_sub.new', '/alps/south/reduced/20220524/TRCS00145851_sub.new', '/alps/south/reduced/20220524/TRCS00145962_sub.new', '/alps/south/reduced/20220524/TRCS00145942_sub.new', '/alps/south/reduced/20220524/TRCS00146330_sub.new', '/alps/south/reduced/20220524/TRCS00146101_sub.new', '/alps/south/reduced/20220524/TRCS00145711_sub.new', '/alps/south/reduced/20220524/TRCS00145631_sub.new', '/alps/south/reduced/20220524/TRCS00145912_sub.new', '/alps/south/reduced/20220524/TRCS00146271_sub.new', '/alps/south/reduced/20220524/TRCS00145371_sub.new', '/alps/south/reduced/20220524/TRCS00146371_sub.new', '/alps/south/reduced/20220524/TRCS00146331_sub.new', '/alps/south/reduced/20220524/TRCS00146191_sub.new', '/alps/south/reduced/20220524/TRCS00145870_sub.new', '/alps/south/reduced/20220524/TRCS00145461_sub.new', '/alps/south/reduced/20220524/TRCS00145450_sub.new', '/alps/south/reduced/20220524/TRCS00146261_sub.new', '/alps/south/reduced/20220524/TRCS00145800_sub.new', '/alps/south/reduced/20220524/TRCS00145661_sub.new', '/alps/south/reduced/20220524/TRCS00146522_sub.new', '/alps/south/reduced/20220524/TRCS00146520_sub.new', '/alps/south/reduced/20220524/TRCS00145811_sub.new', '/alps/south/reduced/20220524/TRCS00146621_sub.new', '/alps/south/reduced/20220524/TRCS00146121_sub.new', '/alps/south/reduced/20220524/TRCS00145291_sub.new', '/alps/south/reduced/20220524/TRCS00146010_sub.new', '/alps/south/reduced/20220524/TRCS00145421_sub.new', '/alps/south/reduced/20220524/TRCS00145500_sub.new', '/alps/south/reduced/20220524/TRCS00146282_sub.new', '/alps/south/reduced/20220524/TRCS00146650_sub.new', '/alps/south/reduced/20220524/TRCS00146130_sub.new', '/alps/south/reduced/20220524/TRCS00145702_sub.new', '/alps/south/reduced/20220524/TRCS00146612_sub.new', '/alps/south/reduced/20220524/TRCS00146402_sub.new', '/alps/south/reduced/20220524/TRCS00145970_sub.new', '/alps/south/reduced/20220524/TRCS00146700_sub.new', '/alps/south/reduced/20220524/TRCS00146301_sub.new', '/alps/south/reduced/20220524/TRCS00145852_sub.new', '/alps/south/reduced/20220524/TRCS00145842_sub.new', '/alps/south/reduced/20220524/TRCS00145520_sub.new', '/alps/south/reduced/20220524/TRCS00145981_sub.new', '/alps/south/reduced/20220524/TRCS00146340_sub.new', '/alps/south/reduced/20220524/TRCS00145871_sub.new', '/alps/south/reduced/20220524/TRCS00145552_sub.new', '/alps/south/reduced/20220524/TRCS00145790_sub.new', '/alps/south/reduced/20220524/TRCS00145290_sub.new', '/alps/south/reduced/20220524/TRCS00145341_sub.new', '/alps/south/reduced/20220524/TRCS00145480_sub.new', '/alps/south/reduced/20220524/TRCS00145410_sub.new', '/alps/south/reduced/20220524/TRCS00145610_sub.new', '/alps/south/reduced/20220524/TRCS00145352_sub.new', '/alps/south/reduced/20220524/TRCS00145542_sub.new', '/alps/south/reduced/20220524/TRCS00145630_sub.new', '/alps/south/reduced/20220524/TRCS00146360_sub.new', '/alps/south/reduced/20220524/TRCS00146372_sub.new', '/alps/south/reduced/20220524/TRCS00145660_sub.new', '/alps/south/reduced/20220524/TRCS00145820_sub.new', '/alps/south/reduced/20220524/TRCS00145960_sub.new', '/alps/south/reduced/20220524/TRCS00146300_sub.new', '/alps/south/reduced/20220524/TRCS00146281_sub.new', '/alps/south/reduced/20220524/TRCS00146620_sub.new', '/alps/south/reduced/20220524/TRCS00145330_sub.new', '/alps/south/reduced/20220524/TRCS00146321_sub.new', '/alps/south/reduced/20220524/TRCS00146302_sub.new', '/alps/south/reduced/20220524/TRCS00145841_sub.new', '/alps/south/reduced/20220524/TRCS00146080_sub.new', '/alps/south/reduced/20220524/TRCS00146180_sub.new', '/alps/south/reduced/20220524/TRCS00146032_sub.new', '/alps/south/reduced/20220524/TRCS00146590_sub.new', '/alps/south/reduced/20220524/TRCS00145311_sub.new', '/alps/south/reduced/20220524/TRCS00145650_sub.new', '/alps/south/reduced/20220524/TRCS00145612_sub.new', '/alps/south/reduced/20220524/TRCS00146341_sub.new', '/alps/south/reduced/20220524/TRCS00145850_sub.new', '/alps/south/reduced/20220524/TRCS00145682_sub.new', '/alps/south/reduced/20220524/TRCS00145971_sub.new', '/alps/south/reduced/20220524/TRCS00146442_sub.new', '/alps/south/reduced/20220524/TRCS00146661_sub.new', '/alps/south/reduced/20220524/TRCS00145781_sub.new', '/alps/south/reduced/20220524/TRCS00146190_sub.new', '/alps/south/reduced/20220524/TRCS00145420_sub.new', '/alps/south/reduced/20220524/TRCS00146351_sub.new', '/alps/south/reduced/20220524/TRCS00146381_sub.new', '/alps/south/reduced/20220524/TRCS00146082_sub.new', '/alps/south/reduced/20220524/TRCS00146532_sub.new', '/alps/south/reduced/20220524/TRCS00145550_sub.new', '/alps/south/reduced/20220524/TRCS00146310_sub.new', '/alps/south/reduced/20220524/TRCS00146202_sub.new', '/alps/south/reduced/20220524/TRCS00146122_sub.new', '/alps/south/reduced/20220524/TRCS00146511_sub.new', '/alps/south/reduced/20220524/TRCS00145320_sub.new', '/alps/south/reduced/20220524/TRCS00146001_sub.new', '/alps/south/reduced/20220524/TRCS00146480_sub.new', '/alps/south/reduced/20220524/TRCS00145600_sub.new', '/alps/south/reduced/20220524/TRCS00146012_sub.new', '/alps/south/reduced/20220524/TRCS00146430_sub.new', '/alps/south/reduced/20220524/TRCS00146160_sub.new', '/alps/south/reduced/20220524/TRCS00146150_sub.new', '/alps/south/reduced/20220524/TRCS00146471_sub.new', '/alps/south/reduced/20220524/TRCS00145361_sub.new', '/alps/south/reduced/20220524/TRCS00145681_sub.new', '/alps/south/reduced/20220524/TRCS00145581_sub.new', '/alps/south/reduced/20220524/TRCS00146572_sub.new', '/alps/south/reduced/20220524/TRCS00146172_sub.new', '/alps/south/reduced/20220524/TRCS00146251_sub.new', '/alps/south/reduced/20220524/TRCS00145750_sub.new', '/alps/south/reduced/20220524/TRCS00145840_sub.new', '/alps/south/reduced/20220524/TRCS00145862_sub.new', '/alps/south/reduced/20220524/TRCS00145570_sub.new', '/alps/south/reduced/20220524/TRCS00145622_sub.new', '/alps/south/reduced/20220524/TRCS00145512_sub.new', '/alps/south/reduced/20220524/TRCS00146432_sub.new', '/alps/south/reduced/20220524/TRCS00146292_sub.new', '/alps/south/reduced/20220524/TRCS00145740_sub.new', '/alps/south/reduced/20220524/TRCS00145590_sub.new', '/alps/south/reduced/20220524/TRCS00145582_sub.new', '/alps/south/reduced/20220524/TRCS00145872_sub.new', '/alps/south/reduced/20220524/TRCS00145691_sub.new', '/alps/south/reduced/20220524/TRCS00145471_sub.new', '/alps/south/reduced/20220524/TRCS00146350_sub.new', '/alps/south/reduced/20220524/TRCS00146171_sub.new', '/alps/south/reduced/20220524/TRCS00146560_sub.new', '/alps/south/reduced/20220524/TRCS00145752_sub.new', '/alps/south/reduced/20220524/TRCS00145502_sub.new', '/alps/south/reduced/20220524/TRCS00145780_sub.new', '/alps/south/reduced/20220524/TRCS00146481_sub.new', '/alps/south/reduced/20220524/TRCS00146671_sub.new', '/alps/south/reduced/20220524/TRCS00146092_sub.new', '/alps/south/reduced/20220524/TRCS00146411_sub.new', '/alps/south/reduced/20220524/TRCS00146000_sub.new', '/alps/south/reduced/20220524/TRCS00146642_sub.new', '/alps/south/reduced/20220524/TRCS00145642_sub.new', '/alps/south/reduced/20220524/TRCS00146582_sub.new', '/alps/south/reduced/20220524/TRCS00145791_sub.new', '/alps/south/reduced/20220524/TRCS00146571_sub.new', '/alps/south/reduced/20220524/TRCS00145331_sub.new', '/alps/south/reduced/20220524/TRCS00146260_sub.new', '/alps/south/reduced/20220524/TRCS00146581_sub.new', '/alps/south/reduced/20220524/TRCS00145381_sub.new', '/alps/south/reduced/20220524/TRCS00146380_sub.new', '/alps/south/reduced/20220524/TRCS00146510_sub.new', '/alps/south/reduced/20220524/TRCS00145941_sub.new', '/alps/south/reduced/20220524/TRCS00146500_sub.new', '/alps/south/reduced/20220524/TRCS00145951_sub.new', '/alps/south/reduced/20220524/TRCS00145832_sub.new', '/alps/south/reduced/20220524/TRCS00145731_sub.new', '/alps/south/reduced/20220524/TRCS00145322_sub.new', '/alps/south/reduced/20220524/TRCS00146400_sub.new', '/alps/south/reduced/20220524/TRCS00145950_sub.new', '/alps/south/reduced/20220524/TRCS00145481_sub.new', '/alps/south/reduced/20220524/TRCS00145772_sub.new', '/alps/south/reduced/20220524/TRCS00145472_sub.new', '/alps/south/reduced/20220524/TRCS00146702_sub.new', '/alps/south/reduced/20220524/TRCS00145540_sub.new', '/alps/south/reduced/20220524/TRCS00146662_sub.new', '/alps/south/reduced/20220524/TRCS00146290_sub.new', '/alps/south/reduced/20220524/TRCS00146440_sub.new', '/alps/south/reduced/20220524/TRCS00146401_sub.new', '/alps/south/reduced/20220524/TRCS00145441_sub.new', '/alps/south/reduced/20220524/TRCS00145300_sub.new', '/alps/south/reduced/20220524/TRCS00146241_sub.new', '/alps/south/reduced/20220524/TRCS00145751_sub.new', '/alps/south/reduced/20220524/TRCS00145692_sub.new', '/alps/south/reduced/20220524/TRCS00145920_sub.new', '/alps/south/reduced/20220524/TRCS00145511_sub.new', '/alps/south/reduced/20220524/TRCS00145982_sub.new', '/alps/south/reduced/20220524/TRCS00146161_sub.new', '/alps/south/reduced/20220524/TRCS00146670_sub.new', '/alps/south/reduced/20220524/TRCS00145430_sub.new', '/alps/south/reduced/20220524/TRCS00145451_sub.new', '/alps/south/reduced/20220524/TRCS00145521_sub.new', '/alps/south/reduced/20220524/TRCS00146672_sub.new', '/alps/south/reduced/20220524/TRCS00146090_sub.new', '/alps/south/reduced/20220524/TRCS00146291_sub.new', '/alps/south/reduced/20220524/TRCS00146680_sub.new', '/alps/south/reduced/20220524/TRCS00145591_sub.new', '/alps/south/reduced/20220524/TRCS00146561_sub.new', '/alps/south/reduced/20220524/TRCS00145672_sub.new', '/alps/south/reduced/20220524/TRCS00145990_sub.new', '/alps/south/reduced/20220524/TRCS00146610_sub.new', '/alps/south/reduced/20220524/TRCS00146192_sub.new', '/alps/south/reduced/20220524/TRCS00146182_sub.new', '/alps/south/reduced/20220524/TRCS00146030_sub.new', '/alps/south/reduced/20220524/TRCS00146250_sub.new', '/alps/south/reduced/20220524/TRCS00145321_sub.new', '/alps/south/reduced/20220524/TRCS00146031_sub.new', '/alps/south/reduced/20220524/TRCS00145362_sub.new', '/alps/south/reduced/20220524/TRCS00145531_sub.new', '/alps/south/reduced/20220524/TRCS00145782_sub.new', '/alps/south/reduced/20220524/TRCS00145821_sub.new', '/alps/south/reduced/20220524/TRCS00145652_sub.new', '/alps/south/reduced/20220524/TRCS00145651_sub.new', '/alps/south/reduced/20220524/TRCS00145662_sub.new', '/alps/south/reduced/20220524/TRCS00146041_sub.new', '/alps/south/reduced/20220524/TRCS00146690_sub.new', '/alps/south/reduced/20220524/TRCS00145710_sub.new', '/alps/south/reduced/20220524/TRCS00146622_sub.new', '/alps/south/reduced/20220524/TRCS00146280_sub.new', '/alps/south/reduced/20220524/TRCS00146451_sub.new', '/alps/south/reduced/20220524/TRCS00145761_sub.new', '/alps/south/reduced/20220524/TRCS00146491_sub.new', '/alps/south/reduced/20220524/TRCS00146472_sub.new', '/alps/south/reduced/20220524/TRCS00146541_sub.new', '/alps/south/reduced/20220524/TRCS00145902_sub.new', '/alps/south/reduced/20220524/TRCS00145432_sub.new', '/alps/south/reduced/20220524/TRCS00146691_sub.new', '/alps/south/reduced/20220524/TRCS00145530_sub.new', '/alps/south/reduced/20220524/TRCS00146131_sub.new', '/alps/south/reduced/20220524/TRCS00145701_sub.new', '/alps/south/reduced/20220524/TRCS00146021_sub.new', '/alps/south/reduced/20220524/TRCS00145370_sub.new', '/alps/south/reduced/20220524/TRCS00145932_sub.new', '/alps/south/reduced/20220524/TRCS00145452_sub.new', '/alps/south/reduced/20220524/TRCS00146512_sub.new', '/alps/south/reduced/20220524/TRCS00145861_sub.new', '/alps/south/reduced/20220524/TRCS00145440_sub.new', '/alps/south/reduced/20220524/TRCS00145972_sub.new', '/alps/south/reduced/20220524/TRCS00146641_sub.new', '/alps/south/reduced/20220524/TRCS00146262_sub.new', '/alps/south/reduced/20220524/TRCS00145762_sub.new', '/alps/south/reduced/20220524/TRCS00146562_sub.new', '/alps/south/reduced/20220524/TRCS00145382_sub.new', '/alps/south/reduced/20220524/TRCS00145921_sub.new', '/alps/south/reduced/20220524/TRCS00145301_sub.new', '/alps/south/reduced/20220524/TRCS00146140_sub.new', '/alps/south/reduced/20220524/TRCS00145541_sub.new', '/alps/south/reduced/20220524/TRCS00146312_sub.new', '/alps/south/reduced/20220524/TRCS00145732_sub.new', '/alps/south/reduced/20220524/TRCS00146132_sub.new', '/alps/south/reduced/20220524/TRCS00146020_sub.new', '/alps/south/reduced/20220524/TRCS00145910_sub.new', '/alps/south/reduced/20220524/TRCS00145380_sub.new', '/alps/south/reduced/20220524/TRCS00146211_sub.new', '/alps/south/reduced/20220524/TRCS00146631_sub.new', '/alps/south/reduced/20220524/TRCS00145592_sub.new', '/alps/south/reduced/20220524/TRCS00146011_sub.new', '/alps/south/reduced/20220524/TRCS00145350_sub.new', '/alps/south/reduced/20220524/TRCS00145621_sub.new', '/alps/south/reduced/20220524/TRCS00145310_sub.new', '/alps/south/reduced/20220524/TRCS00146322_sub.new', '/alps/south/reduced/20220524/TRCS00146410_sub.new', '/alps/south/reduced/20220524/TRCS00146162_sub.new', '/alps/south/reduced/20220524/TRCS00146100_sub.new', '/alps/south/reduced/20220524/TRCS00146270_sub.new', '/alps/south/reduced/20220524/TRCS00146252_sub.new', '/alps/south/reduced/20220524/TRCS00145771_sub.new', '/alps/south/reduced/20220524/TRCS00145571_sub.new']\n"
     ]
    },
    {
     "data": {
      "text/plain": [
       "'\\nfor target_file in target_files:\\n    hdul = fits.open(target_file)\\n    movie_now = hdul[0].data\\n    fits_header = hdul[0].header\\n    print(np.max(movie_now))\\n    hdul.close()\\n'"
      ]
     },
     "execution_count": 2,
     "metadata": {},
     "output_type": "execute_result"
    }
   ],
   "source": [
    "import glob\n",
    "import os\n",
    "import importlib \n",
    "import numpy as np\n",
    "import astropy.io.fits as fits\n",
    "import astropy.units as u\n",
    "import sep\n",
    "import matplotlib.pyplot as plt\n",
    "from astropy.wcs import WCS\n",
    "from preseimei import utils\n",
    "from astropy.timeseries import LombScargle\n",
    "import lightkurve as lk\n",
    "from preseimei import seimei_ana\n",
    "def get_target_files(data_dir, obs_date, exptime=120):\n",
    "    \"\"\" Get WD files from seimei data\n",
    "    Params:\n",
    "        data_dir: Directory for raw data\n",
    "        obs_date: Observational date (str)\n",
    "\n",
    "    Returns: \n",
    "        obj_files: Arrays for object files\n",
    "    \"\"\"\n",
    "    fns_all = glob.glob(data_dir+obs_date+'/*.fits')\n",
    "    obj_files = []\n",
    "    print(len(fns_all))\n",
    "    count = 0\n",
    "    for fn in fns_all:\n",
    "        try:\n",
    "            hdul = fits.open(fn)\n",
    "            obj_type = hdul[0].header['OBJECT']\n",
    "            n_exposure = hdul[0].header['NAXIS3']\n",
    "            if obj_type==\"DARK\" or obj_type ==\"twilight\":\n",
    "                count +=1\n",
    "                continue\n",
    "            if n_exposure ==exptime:\n",
    "                obj_files.append(fn)        \n",
    "        except:\n",
    "            count +=1\n",
    "            pass\n",
    "    return obj_files , count      \n",
    "\n",
    "target_files = glob.glob(\"/alps/south/reduced/20220524/*_sub.new\")\n",
    "print(target_files)\n",
    "\"\"\"\n",
    "for target_file in target_files:\n",
    "    hdul = fits.open(target_file)\n",
    "    movie_now = hdul[0].data\n",
    "    fits_header = hdul[0].header\n",
    "    print(np.max(movie_now))\n",
    "    hdul.close()\n",
    "\"\"\""
   ]
  },
  {
   "cell_type": "code",
   "execution_count": null,
   "id": "satisfied-palace",
   "metadata": {},
   "outputs": [
    {
     "name": "stdout",
     "output_type": "stream",
     "text": [
      "777\n"
     ]
    }
   ],
   "source": [
    "obj_files, count  = get_target_files(\"/alps/center/\", \"20220524\",120)\n",
    "print(count)"
   ]
  },
  {
   "cell_type": "code",
   "execution_count": null,
   "id": "comparative-diamond",
   "metadata": {},
   "outputs": [],
   "source": [
    "len(obj_files)"
   ]
  },
  {
   "cell_type": "code",
   "execution_count": null,
   "id": "relative-stevens",
   "metadata": {
    "scrolled": false
   },
   "outputs": [],
   "source": [
    "data = np.load(\"/alps/south/reduced/20220524/failed.npz\")\n",
    "print(data.files)"
   ]
  },
  {
   "cell_type": "code",
   "execution_count": null,
   "id": "chronic-honor",
   "metadata": {},
   "outputs": [],
   "source": [
    "data[\"failed_files\"]"
   ]
  },
  {
   "cell_type": "code",
   "execution_count": null,
   "id": "superior-nylon",
   "metadata": {},
   "outputs": [],
   "source": [
    "idx = 3\n",
    "data = np.load(files[idx])\n",
    "lc_proc= np.load(files_lcs[idx])\n",
    "time_target = lc_proc[\"time\"] - np.m\n",
    "least_lc = lc_proc[\"least_lc\"]\n",
    "\n",
    "print(data.files)"
   ]
  },
  {
   "cell_type": "code",
   "execution_count": null,
   "id": "appreciated-speech",
   "metadata": {},
   "outputs": [],
   "source": [
    "n_sub_comp=2\n",
    "time = data[\"time\"] -np.min(data[\"time\"] )\n",
    "mask = time >200\n",
    "time = time[mask]\n",
    "flux_target = data[\"flux_target\"][mask]\n",
    "flux_for_comp= data[\"flux_for_comp\"][:,mask]\n",
    "gaia_for_comp= data[\"gaia_for_comp\"]\n",
    "\n",
    "flux_med_arr = x_mean(flux_for_comp)\n",
    "flux_div = flux_meddiv_and_subtract_1(flux_for_comp)\n",
    "U, s ,V_svd = np.linalg.svd(flux_div, full_matrices = True)\n",
    "V_sub_from_lc = V_svd[:n_sub_comp] ## Component for subtraction \n",
    "coeff_V = np.dot(flux_div, V_sub_from_lc.T) ## Coefficient for subtraction \n",
    "flux_div_target = np.array([flux_target])\n",
    "flux_med_target = x_mean(flux_div_target )\n",
    "coeff_V_others = np.dot(flux_div, V_sub_from_lc.T) ## Coefficient for subtraction \n",
    "sub_component_others = np.dot(coeff_V_others, V_sub_from_lc) ## Lightcurve for subtraction \n",
    "after_subtracted_others = (flux_div-sub_component_others + 1) * flux_med_arr ## Output after subtraction of systematics\n",
    "\n",
    "\n",
    "coeff_V_target = np.dot(flux_div_target, V_sub_from_lc.T) ## Coefficient for subtraction \n",
    "sub_component_target = np.dot(coeff_V_target, V_sub_from_lc) ## Lightcurve for subtraction \n",
    "after_subtracted_target = (flux_div_target-sub_component_target + 1) * flux_med_target ## Output after subtraction of systematics\n",
    "flux_target_pca = after_subtracted_target [0]/np.median(after_subtracted_target [0])\n"
   ]
  },
  {
   "cell_type": "code",
   "execution_count": null,
   "id": "improved-going",
   "metadata": {
    "scrolled": false
   },
   "outputs": [],
   "source": [
    "for (i, flux_now) in enumerate(after_subtracted_others):\n",
    "    print(i, gaia_for_comp[0][i] )\n",
    "    movie_lc_ana.show_periodogram_and_lc(time-np.min(time), flux_now, maximum_period=1000 )    \n",
    "    #plt.plot(time-np.min(time), flux_now)\n",
    "    plt.show()"
   ]
  },
  {
   "cell_type": "code",
   "execution_count": null,
   "id": "still-lincoln",
   "metadata": {},
   "outputs": [],
   "source": [
    "np.shape(time_target)\n",
    "np.shape(flux_target_pca)\n",
    "time_target_plot =time_target-np.min(time_target)\n",
    "\n",
    "poly = np.polyfit(time_target_plot,flux_target_pca, deg=2)\n",
    "y_red = np.polyval(poly, time_target_plot)\n",
    "plt.plot(time_target_plot, flux_target_pca)\n",
    "plt.plot(time_target_plot, y_red)"
   ]
  },
  {
   "cell_type": "code",
   "execution_count": null,
   "id": "unlikely-sentence",
   "metadata": {},
   "outputs": [],
   "source": [
    "flux_ = flux_target/ np.mean(flux_target)\n",
    "flux_2 =after_subtracted_others[1]/np.mean( after_subtracted_others[1])\n",
    "figure = plt.figure(figsize = (10,10))\n",
    "plt.plot(time , flux_, color=\"r\")\n",
    "plt.show()\n",
    "#plt.plot(time , flux_/ flux_2)\n",
    "figure = plt.figure(figsize = (10,10))\n",
    "\n",
    "plt.plot(time, flux_2)\n"
   ]
  },
  {
   "cell_type": "code",
   "execution_count": null,
   "id": "individual-terminology",
   "metadata": {},
   "outputs": [],
   "source": []
  },
  {
   "cell_type": "code",
   "execution_count": null,
   "id": "fixed-degree",
   "metadata": {},
   "outputs": [],
   "source": [
    "importlib.reload(movie_lc_ana)\n",
    "movie_lc_ana.show_periodogram_and_lc(time , flux_,bin_dt=10, maximum_period=1000)    \n"
   ]
  },
  {
   "cell_type": "code",
   "execution_count": null,
   "id": "warming-classics",
   "metadata": {},
   "outputs": [],
   "source": []
  },
  {
   "cell_type": "code",
   "execution_count": null,
   "id": "pointed-stability",
   "metadata": {},
   "outputs": [],
   "source": []
  }
 ],
 "metadata": {
  "kernelspec": {
   "display_name": "Python 3",
   "language": "python",
   "name": "python3"
  },
  "language_info": {
   "codemirror_mode": {
    "name": "ipython",
    "version": 3
   },
   "file_extension": ".py",
   "mimetype": "text/x-python",
   "name": "python",
   "nbconvert_exporter": "python",
   "pygments_lexer": "ipython3",
   "version": "3.8.8"
  }
 },
 "nbformat": 4,
 "nbformat_minor": 5
}
