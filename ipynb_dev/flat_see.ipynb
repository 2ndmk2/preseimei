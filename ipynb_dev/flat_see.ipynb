{
 "cells": [
  {
   "cell_type": "code",
   "execution_count": 12,
   "id": "numeric-coach",
   "metadata": {},
   "outputs": [],
   "source": [
    "from preseimei import darkflat\n",
    "from preseimei import install_indexfiles\n",
    "from preseimei import seimei_ana\n",
    "import astropy.io.fits as fits\n",
    "import numpy as np\n",
    "import matplotlib.pyplot as plt\n",
    "\n",
    "data_dir = '/alps/south/'\n",
    "obs_date = '20220114'\n",
    "\n",
    "gain_exp_for_obj = \"x8_0.996464\"\n",
    "gain_exp_for_flat = \"x8_0.996464\"\n",
    "## download index files for astrometry.net\n",
    "files1, files2= darkflat.get_all_dark_flat_file(data_dir, obs_date, dark_name = \"DARK\", flat_name = \"twilight\")"
   ]
  },
  {
   "cell_type": "code",
   "execution_count": 14,
   "id": "saved-opposition",
   "metadata": {},
   "outputs": [
    {
     "name": "stdout",
     "output_type": "stream",
     "text": [
      "15 36\n"
     ]
    }
   ],
   "source": [
    "\n",
    "print(len(files1), len(files2))\n",
    "\n",
    "## dark & flat\n",
    "out_dir_for_dark_flat = \"/alps/south/dark_flat\"\n",
    "darkflat.main(data_dir, obs_date, out_dir_for_dark_flat,  gain_exp_for_obj, gain_exp_for_flat)\n",
    "flat_med_arr = darkflat.get_image_med(files2)"
   ]
  },
  {
   "cell_type": "code",
   "execution_count": 3,
   "id": "political-adolescent",
   "metadata": {},
   "outputs": [
    {
     "data": {
      "text/plain": [
       "<matplotlib.image.AxesImage at 0x15275f8ae100>"
      ]
     },
     "execution_count": 3,
     "metadata": {},
     "output_type": "execute_result"
    },
    {
     "data": {
      "image/png": "[encoded data removed]",
      "text/plain": [
       "<Figure size 432x288 with 1 Axes>"
      ]
     },
     "metadata": {
      "needs_background": "light"
     },
     "output_type": "display_data"
    }
   ],
   "source": [
    "\n",
    "flat_dark = np.load(\"/alps/south/dark_flat/flat_dark_20220114.npz\")\n",
    "plt.imshow(flat_dark[\"g_dark_for_obj\"])"
   ]
  },
  {
   "cell_type": "code",
   "execution_count": 6,
   "id": "artificial-march",
   "metadata": {},
   "outputs": [
    {
     "data": {
      "text/plain": [
       "array([[2.18450e+03, 8.52075e+03, 6.13125e+03, ..., 9.62000e+02,\n",
       "        9.89500e+02, 9.78500e+02],\n",
       "       [0.00000e+00, 1.75000e+00, 0.00000e+00, ..., 9.37500e+02,\n",
       "        9.78500e+02, 9.28500e+02],\n",
       "       [5.48000e+02, 3.75000e+00, 4.50000e+00, ..., 9.73500e+02,\n",
       "        9.86000e+02, 9.79500e+02],\n",
       "       ...,\n",
       "       [0.00000e+00, 1.75000e+00, 0.00000e+00, ..., 9.16000e+02,\n",
       "        9.48250e+02, 9.03250e+02],\n",
       "       [5.48000e+02, 3.75000e+00, 4.50000e+00, ..., 9.46750e+02,\n",
       "        9.61500e+02, 9.54000e+02],\n",
       "       [3.27500e+01, 2.12500e+00, 1.04690e+04, ..., 9.79250e+02,\n",
       "        9.90250e+02, 9.46000e+02]], dtype=float32)"
      ]
     },
     "execution_count": 6,
     "metadata": {},
     "output_type": "execute_result"
    }
   ],
   "source": [
    "flat_dark[\"g_dark_for_obj\"]"
   ]
  },
  {
   "cell_type": "code",
   "execution_count": 10,
   "id": "interpreted-sterling",
   "metadata": {},
   "outputs": [
    {
     "name": "stdout",
     "output_type": "stream",
     "text": [
      "[[2.1845000e+03 8.5207500e+03 6.1272500e+03 ... 1.0405000e+03\n",
      "  1.0340000e+03 1.0105000e+03]\n",
      " [0.0000000e+00 1.7500000e+00 0.0000000e+00 ... 9.4900000e+02\n",
      "  1.0217500e+03 9.7200000e+02]\n",
      " [5.4800000e+02 3.7500000e+00 4.5000000e+00 ... 9.9575000e+02\n",
      "  1.0300000e+03 9.5750000e+02]\n",
      " ...\n",
      " [0.0000000e+00 1.7500000e+00 0.0000000e+00 ... 9.0450000e+02\n",
      "  9.9050000e+02 9.3325000e+02]\n",
      " [5.4800000e+02 3.7500000e+00 4.5000000e+00 ... 9.6550000e+02\n",
      "  1.0000000e+03 9.2900000e+02]\n",
      " [3.2750000e+01 1.3750000e+00 1.0458125e+04 ... 9.2925000e+02\n",
      "  9.7050000e+02 9.2700000e+02]]\n"
     ]
    }
   ],
   "source": [
    "flat_dark[\"r_dark_for_obj\"]\n",
    "#flat = flat_dark[\"z_flat\"]\n",
    "print(flat_dark[\"r_dark_for_obj\"])\n"
   ]
  },
  {
   "cell_type": "code",
   "execution_count": 18,
   "id": "exceptional-canyon",
   "metadata": {},
   "outputs": [
    {
     "name": "stdout",
     "output_type": "stream",
     "text": [
      "x8 0.996464\n",
      "x8 0.996464\n",
      "x8 0.996464\n",
      "x8 0.996464\n",
      "x8 0.996464\n",
      "x8 0.996464\n",
      "x16 0.091512\n",
      "x8 0.996464\n",
      "x8 0.996464\n",
      "x8 0.996464\n",
      "x8 0.996464\n",
      "x8 0.996464\n",
      "x16 0.091512\n",
      "x8 0.996464\n",
      "x16 0.091512\n"
     ]
    }
   ],
   "source": [
    "for i in range(len(files1)):\n",
    "    hdul = fits.open(files1[i])\n",
    "    movie_now = hdul[0].data\n",
    "    fits_header = hdul[0].header\n",
    "    gain = hdul[0].header['GAINCNFG']\n",
    "    exposure = str(hdul[0].header['EXPTIME1'])\n",
    "    print(gain, exposure)\n",
    "    hdul.close()"
   ]
  },
  {
   "cell_type": "code",
   "execution_count": 19,
   "id": "realistic-boost",
   "metadata": {},
   "outputs": [
    {
     "name": "stdout",
     "output_type": "stream",
     "text": [
      "twilight x8 0.996464\n",
      "/alps/south/20220114/TRCS00118292.fits\n",
      "twilight x8 0.996464\n",
      "/alps/south/20220114/TRCS00117630.fits\n",
      "twilight x8 4.992488\n",
      "/alps/south/20220114/TRCS00118301.fits\n",
      "twilight x8 0.996464\n",
      "/alps/south/20220114/TRCS00117672.fits\n",
      "twilight x16 0.091512\n",
      "/alps/south/20220114/TRCS00117692.fits\n",
      "twilight x16 0.091512\n",
      "/alps/south/20220114/TRCS00117690.fits\n",
      "twilight x8 0.996464\n",
      "/alps/south/20220114/TRCS00117680.fits\n",
      "twilight x8 0.996464\n",
      "/alps/south/20220114/TRCS00117632.fits\n",
      "twilight x8 0.996464\n",
      "/alps/south/20220114/TRCS00117642.fits\n",
      "twilight x8 0.996464\n",
      "/alps/south/20220114/TRCS00117631.fits\n",
      "twilight x8 3.497792\n",
      "/alps/south/20220114/TRCS00118321.fits\n",
      "twilight x8 0.996464\n",
      "/alps/south/20220114/TRCS00117670.fits\n",
      "twilight x8 0.996464\n",
      "/alps/south/20220114/TRCS00118291.fits\n",
      "twilight x8 4.992488\n",
      "/alps/south/20220114/TRCS00118300.fits\n",
      "twilight x8 0.996464\n",
      "/alps/south/20220114/TRCS00117681.fits\n",
      "twilight x8 0.996464\n",
      "/alps/south/20220114/TRCS00118290.fits\n",
      "twilight x8 3.497792\n",
      "/alps/south/20220114/TRCS00118311.fits\n",
      "twilight x8 3.497792\n",
      "/alps/south/20220114/TRCS00118312.fits\n",
      "twilight x8 0.996464\n",
      "/alps/south/20220114/TRCS00117651.fits\n",
      "twilight x8 0.996464\n",
      "/alps/south/20220114/TRCS00117660.fits\n",
      "twilight x8 0.996464\n",
      "/alps/south/20220114/TRCS00117682.fits\n",
      "twilight x8 0.996464\n",
      "/alps/south/20220114/TRCS00117622.fits\n",
      "twilight x8 0.996464\n",
      "/alps/south/20220114/TRCS00117671.fits\n",
      "twilight x8 0.996464\n",
      "/alps/south/20220114/TRCS00117641.fits\n",
      "twilight x16 0.091512\n",
      "/alps/south/20220114/TRCS00117691.fits\n",
      "twilight x8 3.497792\n",
      "/alps/south/20220114/TRCS00118310.fits\n",
      "twilight x8 0.996464\n",
      "/alps/south/20220114/TRCS00117652.fits\n",
      "twilight x8 3.497792\n",
      "/alps/south/20220114/TRCS00118322.fits\n",
      "twilight x8 0.996464\n",
      "/alps/south/20220114/TRCS00117620.fits\n",
      "twilight x8 0.996464\n",
      "/alps/south/20220114/TRCS00117650.fits\n",
      "twilight x8 3.497792\n",
      "/alps/south/20220114/TRCS00118320.fits\n",
      "twilight x8 0.996464\n",
      "/alps/south/20220114/TRCS00117640.fits\n",
      "twilight x8 0.996464\n",
      "/alps/south/20220114/TRCS00117661.fits\n",
      "twilight x8 0.996464\n",
      "/alps/south/20220114/TRCS00117662.fits\n",
      "twilight x8 0.996464\n",
      "/alps/south/20220114/TRCS00117621.fits\n",
      "twilight x8 4.992488\n",
      "/alps/south/20220114/TRCS00118302.fits\n"
     ]
    }
   ],
   "source": [
    "for i in range(len(files2)):\n",
    "    hdul = fits.open(files2[i])\n",
    "    movie_now = hdul[0].data\n",
    "    fits_header = hdul[0].header\n",
    "    obj_type = hdul[0].header['OBJECT']\n",
    "    gain = hdul[0].header['GAINCNFG']\n",
    "    exposure = str(hdul[0].header['EXPTIME1'])\n",
    "    print(obj_type, gain, exposure)\n",
    "    print(files2[i])\n",
    "    hdul.close()"
   ]
  },
  {
   "cell_type": "code",
   "execution_count": 11,
   "id": "disabled-source",
   "metadata": {},
   "outputs": [],
   "source": [
    "flat_med = darkflat.get_image_med(files2)\n"
   ]
  },
  {
   "cell_type": "code",
   "execution_count": 87,
   "id": "resident-mattress",
   "metadata": {},
   "outputs": [],
   "source": [
    "dark_for_flat_med_arr = darkflat.get_image_med(files1)"
   ]
  },
  {
   "cell_type": "code",
   "execution_count": 84,
   "id": "crazy-lyric",
   "metadata": {},
   "outputs": [
    {
     "data": {
      "image/png": "[encoded data removed]",
      "text/plain": [
       "<Figure size 432x288 with 2 Axes>"
      ]
     },
     "metadata": {
      "needs_background": "light"
     },
     "output_type": "display_data"
    }
   ],
   "source": [
    "flat_med_ = np.median( flat_med, axis=0)\n",
    "\n",
    "plt.imshow(flat_med_)\n",
    "plt.colorbar()\n",
    "plt.show()"
   ]
  },
  {
   "cell_type": "code",
   "execution_count": 90,
   "id": "crazy-trinidad",
   "metadata": {},
   "outputs": [
    {
     "data": {
      "text/plain": [
       "<matplotlib.image.AxesImage at 0x145304866cd0>"
      ]
     },
     "execution_count": 90,
     "metadata": {},
     "output_type": "execute_result"
    },
    {
     "data": {
      "image/png": "[encoded data removed]",
      "text/plain": [
       "<Figure size 432x288 with 1 Axes>"
      ]
     },
     "metadata": {
      "needs_background": "light"
     },
     "output_type": "display_data"
    }
   ],
   "source": [
    "dark_med = np.median( dark_for_flat_med_arr, axis=0)\n"
   ]
  },
  {
   "cell_type": "code",
   "execution_count": 91,
   "id": "broke-mexico",
   "metadata": {},
   "outputs": [
    {
     "data": {
      "text/plain": [
       "array([[2.18450e+03, 8.52075e+03, 6.12825e+03, ..., 1.04775e+03,\n",
       "        1.04250e+03, 1.02000e+03],\n",
       "       [0.00000e+00, 1.00000e+00, 0.00000e+00, ..., 9.36000e+02,\n",
       "        9.76750e+02, 9.26500e+02],\n",
       "       [5.48000e+02, 3.80000e+01, 4.50000e+00, ..., 9.70500e+02,\n",
       "        9.85250e+02, 9.60250e+02],\n",
       "       ...,\n",
       "       [0.00000e+00, 1.00000e+00, 0.00000e+00, ..., 9.03250e+02,\n",
       "        9.45500e+02, 9.00750e+02],\n",
       "       [5.48000e+02, 3.80000e+01, 4.50000e+00, ..., 9.45000e+02,\n",
       "        9.61000e+02, 9.27500e+02],\n",
       "       [3.27500e+01, 2.87500e+00, 4.12250e+03, ..., 9.77000e+02,\n",
       "        9.68000e+02, 9.25000e+02]], dtype=float32)"
      ]
     },
     "execution_count": 91,
     "metadata": {},
     "output_type": "execute_result"
    }
   ],
   "source": [
    "dark_med "
   ]
  },
  {
   "cell_type": "code",
   "execution_count": null,
   "id": "ideal-testimony",
   "metadata": {},
   "outputs": [],
   "source": []
  }
 ],
 "metadata": {
  "kernelspec": {
   "display_name": "Python 3",
   "language": "python",
   "name": "python3"
  },
  "language_info": {
   "codemirror_mode": {
    "name": "ipython",
    "version": 3
   },
   "file_extension": ".py",
   "mimetype": "text/x-python",
   "name": "python",
   "nbconvert_exporter": "python",
   "pygments_lexer": "ipython3",
   "version": "3.8.8"
  }
 },
 "nbformat": 4,
 "nbformat_minor": 5
}
